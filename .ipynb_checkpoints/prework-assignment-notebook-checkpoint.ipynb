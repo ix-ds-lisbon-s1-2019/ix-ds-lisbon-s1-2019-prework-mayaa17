{
 "cells": [
  {
   "cell_type": "markdown",
   "metadata": {},
   "source": [
    "# Prework Assignment"
   ]
  },
  {
   "cell_type": "markdown",
   "metadata": {},
   "source": [
    "### General Background Questions"
   ]
  },
  {
   "cell_type": "markdown",
   "metadata": {},
   "source": [
    "1. Why is version control important in science?"
   ]
  },
  {
   "cell_type": "code",
   "execution_count": 1,
   "metadata": {},
   "outputs": [],
   "source": [
    "# Version control is important in science as it provides a strong collaborative environment as it allows one to keep track of changes and different versions of code that can be viewed by everyone who has access to it. It is important in science as it increases productivity and allows for others to build on one's work. \n",
    "#It also helps others understand the code more easily. "
   ]
  },
  {
   "cell_type": "markdown",
   "metadata": {},
   "source": [
    "2. What kind of research artifacts can we track with Git?"
   ]
  },
  {
   "cell_type": "code",
   "execution_count": 1,
   "metadata": {},
   "outputs": [],
   "source": [
    "# We can track manuscripts and notes, datasets, statistical codes and figures, and complete manuscripts. "
   ]
  },
  {
   "cell_type": "markdown",
   "metadata": {},
   "source": [
    "3. What are the three main things that can go wrong in a data science project?"
   ]
  },
  {
   "cell_type": "code",
   "execution_count": 1,
   "metadata": {},
   "outputs": [],
   "source": [
    "#The three main things that can go wrong in a data science project are 1. the data isn't what you wanted, 2. the model doesnt work well, 3. you arent solving the right problem"
   ]
  },
  {
   "cell_type": "markdown",
   "metadata": {},
   "source": [
    "### Python Background Questions"
   ]
  },
  {
   "cell_type": "markdown",
   "metadata": {},
   "source": [
    "These short exercises are a way to familiarize yourself with python. If you find these exercises too difficult, don’t worry! We will review the basics the first day to make sure we are all comfortable coding in Python.\n",
    "\n",
    "Please save your work in this document and `git push` them to the `prework-assignment` repo.\n",
    "\n",
    "----------------------------------------------------------------"
   ]
  },
  {
   "cell_type": "markdown",
   "metadata": {},
   "source": [
    "### Problem 1: Basic Operations"
   ]
  },
  {
   "cell_type": "markdown",
   "metadata": {},
   "source": [
    "You are at Vanessa's Vegan Cafe and you loved it so much you wanna leave a tip. Write a function that takes the amount owed and calculates how much money you pay with an 18% tip. If functions still scare you, just the solution code will do."
   ]
  },
  {
   "cell_type": "code",
   "execution_count": 1,
   "metadata": {},
   "outputs": [],
   "source": [
    "print('please enter total bill amount:')\n",
    "bill = input()\n",
    "\n",
    "def getTip(num): \n",
    "    tip = (float(bill) *18)/100\n",
    "    return tip; \n",
    "\n",
    "tipamount = getTip(bill)\n",
    "print('The tip you should give at 18% is $' + str(tipamount))"
   ]
  },
  {
   "cell_type": "markdown",
   "metadata": {},
   "source": [
    "----------------------------------------------------------------"
   ]
  },
  {
   "cell_type": "markdown",
   "metadata": {},
   "source": [
    "### Problem 2: Lists"
   ]
  },
  {
   "cell_type": "markdown",
   "metadata": {},
   "source": [
    "I have a fortune cookie that says my lucky numbers are:\n",
    "\n",
    "       [23, 54, 6, 8, 10078, 3]\n",
    "\n",
    "Write a function that returns 3 lists (if functions still scare you, just the solution code will do)\n",
    "   - replace the number 6 with 1\n",
    "   - the above list in decreasing order\n",
    "   - all values greater than 15"
   ]
  },
  {
   "cell_type": "code",
   "execution_count": 1,
   "metadata": {},
   "outputs": [],
   "source": [
    "samplelist = [23, 54, 6, 8, 10078, 3] #the list given above \n",
    "\n",
    "#writing a function that returns 3 lists \n",
    "def getLists(): \n",
    "    list1 = [1,2,3,4,5,6]\n",
    "    print(list1)\n",
    "    list2 = [23,2,34,65,23,980]\n",
    "    print(list2) \n",
    "    list3 = [34,23,12,32,11,1]\n",
    "    print(list3)\n",
    "    \n",
    "getLists() \n",
    "\n",
    "#replacing teh number 6 with 1 \n",
    "samplelist[2] = 1 \n",
    "\n",
    "#sorting the above list to make it decreasing order \n",
    "samplelist.sort(reverse = True) \n",
    "\n",
    "#all values greater than 15 (do you mean remove?) \n",
    "for x in samplelist:\n",
    "\tif x > 15:\n",
    "\t\tsamplelist.remove(x)\n",
    "  \n",
    "\n",
    "print(samplelist)\n"
   ]
  },
  {
   "cell_type": "markdown",
   "metadata": {},
   "source": [
    "----------------------------------------------------------------"
   ]
  },
  {
   "cell_type": "markdown",
   "metadata": {},
   "source": [
    "### Problem 3: Basic Operations"
   ]
  },
  {
   "cell_type": "markdown",
   "metadata": {},
   "source": [
    "Let's now take the first step in coding some real data science. Write a statement that loads the `numpy` library into the interpreter and gives it an alias of `np`."
   ]
  },
  {
   "cell_type": "code",
   "execution_count": 1,
   "metadata": {},
   "outputs": [],
   "source": [
    "import numpy as np "
   ]
  },
  {
   "cell_type": "markdown",
   "metadata": {},
   "source": [
    "----------------------------------------------------------------"
   ]
  },
  {
   "cell_type": "markdown",
   "metadata": {},
   "source": [
    "### Problem 4: Numpy"
   ]
  },
  {
   "cell_type": "markdown",
   "metadata": {},
   "source": [
    "Generated a 10x10 `numpy` array with random numbers and slice the array to get the 2nd and 3rd column. Also calculate the average of 6th column using `numpy`."
   ]
  },
  {
   "cell_type": "code",
   "execution_count": 1,
   "metadata": {},
   "outputs": [],
   "source": [
    "import numpy as np \n",
    "np.random.random((10,10)) #creating the array \n",
    "\n",
    "#slicing the array to get the third and fourth column \n",
    "array1 = np.random.random((10,10))\n",
    "array1[:, (2,3)]  #when I did this, I realize that the numbers would be different each time because of the random numbers, but is there a way to keep the array constant? \n",
    "\n",
    "#calculating the average of the 6th column using numpy \n",
    "np.mean(array1[:,6]) \n"
   ]
  },
  {
   "cell_type": "markdown",
   "metadata": {},
   "source": [
    "----------------------------------------------------------------"
   ]
  },
  {
   "cell_type": "markdown",
   "metadata": {},
   "source": [
    "##### That's it! We look forward to seeing you in class!"
   ]
  }
 ],
 "metadata": {
  "kernelspec": {
   "display_name": "Python 3",
   "language": "python",
   "name": "python3"
  },
  "language_info": {
   "codemirror_mode": {
    "name": "ipython",
    "version": 3
   },
   "file_extension": ".py",
   "mimetype": "text/x-python",
   "name": "python",
   "nbconvert_exporter": "python",
   "pygments_lexer": "ipython3",
   "version": "3.7.1"
  }
 },
 "nbformat": 4,
 "nbformat_minor": 2
}
